{
 "cells": [
  {
   "cell_type": "markdown",
   "metadata": {},
   "source": [
    "# Moving Shapes: Examples"
   ]
  },
  {
   "cell_type": "code",
   "execution_count": 1,
   "metadata": {},
   "outputs": [],
   "source": [
    "import moving_shapes as ms\n",
    "import pandas as pd\n",
    "import matplotlib.pyplot as plt"
   ]
  },
  {
   "cell_type": "markdown",
   "metadata": {},
   "source": [
    "## Indiana Extra Credit dataset"
   ]
  },
  {
   "cell_type": "code",
   "execution_count": 2,
   "metadata": {},
   "outputs": [
    {
     "name": "stdout",
     "output_type": "stream",
     "text": [
      "131\n"
     ]
    }
   ],
   "source": [
    "# load iec dataset\n",
    "iec = ms.iec()\n",
    "print(len(iec))"
   ]
  },
  {
   "cell_type": "code",
   "execution_count": 3,
   "metadata": {},
   "outputs": [
    {
     "name": "stdout",
     "output_type": "stream",
     "text": [
      "7756 box-bt-lt-c\n"
     ]
    }
   ],
   "source": [
    "# see the id and stage for this performance\n",
    "print(iec[0].id, iec[0].stage)"
   ]
  },
  {
   "cell_type": "code",
   "execution_count": 4,
   "metadata": {},
   "outputs": [
    {
     "name": "stdout",
     "output_type": "stream",
     "text": [
      "failed engagement\n",
      "The couple (two triangles), very happy, gets engaged and decides to get married. They head to marriage hall, where another young lady (circle) works. When the couple walks into the marriage hall, the groom starts flirting with the new lady. The bride gets very angry and mad and runs away. The men starts chasing her and apologize but the bride doesn't want to hear anything and does not forgive him. Finally, men returns back to the lady from the marriage hall and starts new romance with her. \n"
     ]
    }
   ],
   "source": [
    "# see the narrative associated with this performance\n",
    "print(iec[0].title)\n",
    "print(iec[0].narrative)"
   ]
  },
  {
   "cell_type": "code",
   "execution_count": 5,
   "metadata": {},
   "outputs": [
    {
     "data": {
      "text/html": [
       "<div>\n",
       "<style scoped>\n",
       "    .dataframe tbody tr th:only-of-type {\n",
       "        vertical-align: middle;\n",
       "    }\n",
       "\n",
       "    .dataframe tbody tr th {\n",
       "        vertical-align: top;\n",
       "    }\n",
       "\n",
       "    .dataframe thead th {\n",
       "        text-align: right;\n",
       "    }\n",
       "</style>\n",
       "<table border=\"1\" class=\"dataframe\">\n",
       "  <thead>\n",
       "    <tr style=\"text-align: right;\">\n",
       "      <th></th>\n",
       "      <th>ms</th>\n",
       "      <th>btx</th>\n",
       "      <th>bty</th>\n",
       "      <th>btr</th>\n",
       "      <th>ltx</th>\n",
       "      <th>lty</th>\n",
       "      <th>ltr</th>\n",
       "      <th>cx</th>\n",
       "      <th>cy</th>\n",
       "      <th>cr</th>\n",
       "      <th>dr</th>\n",
       "    </tr>\n",
       "  </thead>\n",
       "  <tbody>\n",
       "    <tr>\n",
       "      <th>0</th>\n",
       "      <td>0</td>\n",
       "      <td>3540.000000</td>\n",
       "      <td>2100.000000</td>\n",
       "      <td>0.000000</td>\n",
       "      <td>3540.00000</td>\n",
       "      <td>1400.000000</td>\n",
       "      <td>0.000000</td>\n",
       "      <td>3540.000000</td>\n",
       "      <td>700.000000</td>\n",
       "      <td>0.00000</td>\n",
       "      <td>10.000000</td>\n",
       "    </tr>\n",
       "    <tr>\n",
       "      <th>1</th>\n",
       "      <td>10</td>\n",
       "      <td>3540.000000</td>\n",
       "      <td>2100.000000</td>\n",
       "      <td>0.000000</td>\n",
       "      <td>3540.00000</td>\n",
       "      <td>1400.000000</td>\n",
       "      <td>0.000000</td>\n",
       "      <td>3540.000000</td>\n",
       "      <td>700.000000</td>\n",
       "      <td>0.00000</td>\n",
       "      <td>17.855617</td>\n",
       "    </tr>\n",
       "    <tr>\n",
       "      <th>2</th>\n",
       "      <td>18</td>\n",
       "      <td>3540.000000</td>\n",
       "      <td>2100.000000</td>\n",
       "      <td>0.000000</td>\n",
       "      <td>3540.00000</td>\n",
       "      <td>1400.000000</td>\n",
       "      <td>0.000000</td>\n",
       "      <td>3540.000000</td>\n",
       "      <td>700.000000</td>\n",
       "      <td>0.00000</td>\n",
       "      <td>19.121740</td>\n",
       "    </tr>\n",
       "    <tr>\n",
       "      <th>3</th>\n",
       "      <td>27</td>\n",
       "      <td>3540.000000</td>\n",
       "      <td>2100.000000</td>\n",
       "      <td>0.000000</td>\n",
       "      <td>3540.00000</td>\n",
       "      <td>1400.000000</td>\n",
       "      <td>0.000000</td>\n",
       "      <td>3540.000000</td>\n",
       "      <td>700.000000</td>\n",
       "      <td>0.00000</td>\n",
       "      <td>18.967721</td>\n",
       "    </tr>\n",
       "    <tr>\n",
       "      <th>4</th>\n",
       "      <td>33</td>\n",
       "      <td>3540.000000</td>\n",
       "      <td>2100.000000</td>\n",
       "      <td>0.000000</td>\n",
       "      <td>3540.00000</td>\n",
       "      <td>1400.000000</td>\n",
       "      <td>0.000000</td>\n",
       "      <td>3540.000000</td>\n",
       "      <td>700.000000</td>\n",
       "      <td>0.00000</td>\n",
       "      <td>19.765873</td>\n",
       "    </tr>\n",
       "    <tr>\n",
       "      <th>...</th>\n",
       "      <td>...</td>\n",
       "      <td>...</td>\n",
       "      <td>...</td>\n",
       "      <td>...</td>\n",
       "      <td>...</td>\n",
       "      <td>...</td>\n",
       "      <td>...</td>\n",
       "      <td>...</td>\n",
       "      <td>...</td>\n",
       "      <td>...</td>\n",
       "      <td>...</td>\n",
       "    </tr>\n",
       "    <tr>\n",
       "      <th>2936</th>\n",
       "      <td>86452</td>\n",
       "      <td>900.778061</td>\n",
       "      <td>1943.953018</td>\n",
       "      <td>157.140732</td>\n",
       "      <td>3441.78513</td>\n",
       "      <td>402.264395</td>\n",
       "      <td>256.291078</td>\n",
       "      <td>764.556946</td>\n",
       "      <td>2090.615028</td>\n",
       "      <td>304.72209</td>\n",
       "      <td>0.063055</td>\n",
       "    </tr>\n",
       "    <tr>\n",
       "      <th>2937</th>\n",
       "      <td>86504</td>\n",
       "      <td>900.778061</td>\n",
       "      <td>1943.953018</td>\n",
       "      <td>157.140732</td>\n",
       "      <td>3441.78513</td>\n",
       "      <td>402.264395</td>\n",
       "      <td>256.291078</td>\n",
       "      <td>764.556946</td>\n",
       "      <td>2090.615028</td>\n",
       "      <td>304.72209</td>\n",
       "      <td>0.454836</td>\n",
       "    </tr>\n",
       "    <tr>\n",
       "      <th>2938</th>\n",
       "      <td>87401</td>\n",
       "      <td>900.778061</td>\n",
       "      <td>1943.953018</td>\n",
       "      <td>157.140732</td>\n",
       "      <td>3441.78513</td>\n",
       "      <td>402.264395</td>\n",
       "      <td>256.291078</td>\n",
       "      <td>764.556946</td>\n",
       "      <td>2090.615028</td>\n",
       "      <td>304.72209</td>\n",
       "      <td>0.063055</td>\n",
       "    </tr>\n",
       "    <tr>\n",
       "      <th>2939</th>\n",
       "      <td>87497</td>\n",
       "      <td>900.778061</td>\n",
       "      <td>1943.953018</td>\n",
       "      <td>157.140732</td>\n",
       "      <td>3441.78513</td>\n",
       "      <td>402.264395</td>\n",
       "      <td>256.291078</td>\n",
       "      <td>764.556946</td>\n",
       "      <td>2090.615028</td>\n",
       "      <td>304.72209</td>\n",
       "      <td>359.671446</td>\n",
       "    </tr>\n",
       "    <tr>\n",
       "      <th>2940</th>\n",
       "      <td>87923</td>\n",
       "      <td>900.778061</td>\n",
       "      <td>1943.953018</td>\n",
       "      <td>157.140732</td>\n",
       "      <td>3441.78513</td>\n",
       "      <td>402.264395</td>\n",
       "      <td>256.291078</td>\n",
       "      <td>764.556946</td>\n",
       "      <td>2090.615028</td>\n",
       "      <td>304.72209</td>\n",
       "      <td>359.686620</td>\n",
       "    </tr>\n",
       "  </tbody>\n",
       "</table>\n",
       "<p>2941 rows × 11 columns</p>\n",
       "</div>"
      ],
      "text/plain": [
       "         ms          btx          bty         btr         ltx          lty  \\\n",
       "0         0  3540.000000  2100.000000    0.000000  3540.00000  1400.000000   \n",
       "1        10  3540.000000  2100.000000    0.000000  3540.00000  1400.000000   \n",
       "2        18  3540.000000  2100.000000    0.000000  3540.00000  1400.000000   \n",
       "3        27  3540.000000  2100.000000    0.000000  3540.00000  1400.000000   \n",
       "4        33  3540.000000  2100.000000    0.000000  3540.00000  1400.000000   \n",
       "...     ...          ...          ...         ...         ...          ...   \n",
       "2936  86452   900.778061  1943.953018  157.140732  3441.78513   402.264395   \n",
       "2937  86504   900.778061  1943.953018  157.140732  3441.78513   402.264395   \n",
       "2938  87401   900.778061  1943.953018  157.140732  3441.78513   402.264395   \n",
       "2939  87497   900.778061  1943.953018  157.140732  3441.78513   402.264395   \n",
       "2940  87923   900.778061  1943.953018  157.140732  3441.78513   402.264395   \n",
       "\n",
       "             ltr           cx           cy         cr          dr  \n",
       "0       0.000000  3540.000000   700.000000    0.00000   10.000000  \n",
       "1       0.000000  3540.000000   700.000000    0.00000   17.855617  \n",
       "2       0.000000  3540.000000   700.000000    0.00000   19.121740  \n",
       "3       0.000000  3540.000000   700.000000    0.00000   18.967721  \n",
       "4       0.000000  3540.000000   700.000000    0.00000   19.765873  \n",
       "...          ...          ...          ...        ...         ...  \n",
       "2936  256.291078   764.556946  2090.615028  304.72209    0.063055  \n",
       "2937  256.291078   764.556946  2090.615028  304.72209    0.454836  \n",
       "2938  256.291078   764.556946  2090.615028  304.72209    0.063055  \n",
       "2939  256.291078   764.556946  2090.615028  304.72209  359.671446  \n",
       "2940  256.291078   764.556946  2090.615028  304.72209  359.686620  \n",
       "\n",
       "[2941 rows x 11 columns]"
      ]
     },
     "execution_count": 5,
     "metadata": {},
     "output_type": "execute_result"
    }
   ],
   "source": [
    "# Load a iec performance into a pandas dataframe\n",
    "df = pd.DataFrame(iec[0].data, columns=ms.COLUMN_LABELS)\n",
    "df"
   ]
  },
  {
   "cell_type": "code",
   "execution_count": 6,
   "metadata": {},
   "outputs": [
    {
     "data": {
      "text/plain": [
       "<matplotlib.collections.PathCollection at 0x32885ca10>"
      ]
     },
     "execution_count": 6,
     "metadata": {},
     "output_type": "execute_result"
    },
    {
     "data": {
      "image/png": "[encoded data removed]",
      "text/plain": [
       "<Figure size 640x480 with 1 Axes>"
      ]
     },
     "metadata": {},
     "output_type": "display_data"
    }
   ],
   "source": [
    "# plot the motions\n",
    "plt.scatter(df['btx'], df['bty'], color='blue')\n",
    "plt.scatter(df['ltx'], df['lty'], color='red')\n",
    "plt.scatter(df['cx'], df['cy'], color='green')"
   ]
  },
  {
   "cell_type": "markdown",
   "metadata": {},
   "source": [
    "## Triangle Charades datasets"
   ]
  },
  {
   "cell_type": "code",
   "execution_count": 7,
   "metadata": {},
   "outputs": [
    {
     "name": "stdout",
     "output_type": "stream",
     "text": [
      "2611\n",
      "1319\n"
     ]
    }
   ],
   "source": [
    "# load the 1-character and 2-character datasets\n",
    "c1c = ms.charades1c()\n",
    "print(len(c1c))\n",
    "c2c = ms.charades2c()\n",
    "print(len(c2c))"
   ]
  },
  {
   "cell_type": "code",
   "execution_count": 8,
   "metadata": {},
   "outputs": [
    {
     "name": "stdout",
     "output_type": "stream",
     "text": [
      "['accelerate', 'bolt', 'bow', 'creep', 'dance', 'drift', 'flinch', 'fly', 'gallop', 'glide', 'hop', 'jump', 'limp', 'march', 'meander', 'nod', 'roam', 'roll', 'run', 'scurry', 'shake', 'decelerate', 'stroll', 'strut', 'stumble', 'swim', 'trudge', 'turn', 'waddle', 'wave', 'spin']\n",
      "['accompany', 'argue with', 'avoid', 'block', 'capture', 'chase', 'creep up on', 'encircle', 'follow', 'herd', 'hit', 'huddle with', 'kiss', 'lead', 'leave', 'mimic', 'poke', 'pull', 'push', 'scratch', 'throw', 'flirt with', 'hug', 'talk to', 'play with', 'approach', 'bother', 'escape', 'tickle', 'examine', 'ignore', 'fight']\n"
     ]
    }
   ],
   "source": [
    "# get all of the labels\n",
    "print(ms.CHARADES_1C_LABELS)\n",
    "print(ms.CHARADES_2C_LABELS)"
   ]
  },
  {
   "cell_type": "code",
   "execution_count": 9,
   "metadata": {},
   "outputs": [
    {
     "name": "stdout",
     "output_type": "stream",
     "text": [
      "31\n"
     ]
    }
   ],
   "source": [
    "# filter a dataset to be just one label\n",
    "block = [x for x in c2c if x.label=='block']\n",
    "print(len(block))"
   ]
  },
  {
   "cell_type": "code",
   "execution_count": 10,
   "metadata": {},
   "outputs": [
    {
     "data": {
      "text/html": [
       "<div>\n",
       "<style scoped>\n",
       "    .dataframe tbody tr th:only-of-type {\n",
       "        vertical-align: middle;\n",
       "    }\n",
       "\n",
       "    .dataframe tbody tr th {\n",
       "        vertical-align: top;\n",
       "    }\n",
       "\n",
       "    .dataframe thead th {\n",
       "        text-align: right;\n",
       "    }\n",
       "</style>\n",
       "<table border=\"1\" class=\"dataframe\">\n",
       "  <thead>\n",
       "    <tr style=\"text-align: right;\">\n",
       "      <th></th>\n",
       "      <th>ms</th>\n",
       "      <th>btx</th>\n",
       "      <th>bty</th>\n",
       "      <th>btr</th>\n",
       "      <th>ltx</th>\n",
       "      <th>lty</th>\n",
       "      <th>ltr</th>\n",
       "      <th>cx</th>\n",
       "      <th>cy</th>\n",
       "      <th>cr</th>\n",
       "      <th>dr</th>\n",
       "    </tr>\n",
       "  </thead>\n",
       "  <tbody>\n",
       "    <tr>\n",
       "      <th>0</th>\n",
       "      <td>0</td>\n",
       "      <td>2350.000000</td>\n",
       "      <td>1500.000000</td>\n",
       "      <td>0.000000</td>\n",
       "      <td>1650.000000</td>\n",
       "      <td>1500.000000</td>\n",
       "      <td>0.000000</td>\n",
       "      <td>0.0</td>\n",
       "      <td>0.0</td>\n",
       "      <td>0.0</td>\n",
       "      <td>0.0</td>\n",
       "    </tr>\n",
       "    <tr>\n",
       "      <th>1</th>\n",
       "      <td>202</td>\n",
       "      <td>2350.000000</td>\n",
       "      <td>1500.000000</td>\n",
       "      <td>0.000000</td>\n",
       "      <td>1650.000000</td>\n",
       "      <td>1500.000000</td>\n",
       "      <td>0.000000</td>\n",
       "      <td>0.0</td>\n",
       "      <td>0.0</td>\n",
       "      <td>0.0</td>\n",
       "      <td>0.0</td>\n",
       "    </tr>\n",
       "    <tr>\n",
       "      <th>2</th>\n",
       "      <td>221</td>\n",
       "      <td>2350.000000</td>\n",
       "      <td>1500.000000</td>\n",
       "      <td>0.000000</td>\n",
       "      <td>1650.000000</td>\n",
       "      <td>1500.000000</td>\n",
       "      <td>0.000000</td>\n",
       "      <td>0.0</td>\n",
       "      <td>0.0</td>\n",
       "      <td>0.0</td>\n",
       "      <td>0.0</td>\n",
       "    </tr>\n",
       "    <tr>\n",
       "      <th>3</th>\n",
       "      <td>223</td>\n",
       "      <td>2350.000000</td>\n",
       "      <td>1500.000000</td>\n",
       "      <td>0.000000</td>\n",
       "      <td>1650.000000</td>\n",
       "      <td>1500.000000</td>\n",
       "      <td>0.000000</td>\n",
       "      <td>0.0</td>\n",
       "      <td>0.0</td>\n",
       "      <td>0.0</td>\n",
       "      <td>0.0</td>\n",
       "    </tr>\n",
       "    <tr>\n",
       "      <th>4</th>\n",
       "      <td>237</td>\n",
       "      <td>2350.000000</td>\n",
       "      <td>1500.000000</td>\n",
       "      <td>0.000000</td>\n",
       "      <td>1650.000000</td>\n",
       "      <td>1500.000000</td>\n",
       "      <td>0.000000</td>\n",
       "      <td>0.0</td>\n",
       "      <td>0.0</td>\n",
       "      <td>0.0</td>\n",
       "      <td>0.0</td>\n",
       "    </tr>\n",
       "    <tr>\n",
       "      <th>...</th>\n",
       "      <td>...</td>\n",
       "      <td>...</td>\n",
       "      <td>...</td>\n",
       "      <td>...</td>\n",
       "      <td>...</td>\n",
       "      <td>...</td>\n",
       "      <td>...</td>\n",
       "      <td>...</td>\n",
       "      <td>...</td>\n",
       "      <td>...</td>\n",
       "      <td>...</td>\n",
       "    </tr>\n",
       "    <tr>\n",
       "      <th>880</th>\n",
       "      <td>11436</td>\n",
       "      <td>2881.579102</td>\n",
       "      <td>1968.421021</td>\n",
       "      <td>144.357663</td>\n",
       "      <td>2402.631714</td>\n",
       "      <td>1810.526367</td>\n",
       "      <td>171.478162</td>\n",
       "      <td>0.0</td>\n",
       "      <td>0.0</td>\n",
       "      <td>0.0</td>\n",
       "      <td>0.0</td>\n",
       "    </tr>\n",
       "    <tr>\n",
       "      <th>881</th>\n",
       "      <td>11453</td>\n",
       "      <td>2881.579102</td>\n",
       "      <td>1973.684204</td>\n",
       "      <td>143.243912</td>\n",
       "      <td>2402.631714</td>\n",
       "      <td>1810.526367</td>\n",
       "      <td>171.478162</td>\n",
       "      <td>0.0</td>\n",
       "      <td>0.0</td>\n",
       "      <td>0.0</td>\n",
       "      <td>0.0</td>\n",
       "    </tr>\n",
       "    <tr>\n",
       "      <th>882</th>\n",
       "      <td>11469</td>\n",
       "      <td>2881.579102</td>\n",
       "      <td>1973.684204</td>\n",
       "      <td>143.243912</td>\n",
       "      <td>2402.631714</td>\n",
       "      <td>1815.789551</td>\n",
       "      <td>170.752805</td>\n",
       "      <td>0.0</td>\n",
       "      <td>0.0</td>\n",
       "      <td>0.0</td>\n",
       "      <td>0.0</td>\n",
       "    </tr>\n",
       "    <tr>\n",
       "      <th>883</th>\n",
       "      <td>11486</td>\n",
       "      <td>2876.315918</td>\n",
       "      <td>1978.947388</td>\n",
       "      <td>144.779193</td>\n",
       "      <td>2402.631714</td>\n",
       "      <td>1815.789551</td>\n",
       "      <td>170.752805</td>\n",
       "      <td>0.0</td>\n",
       "      <td>0.0</td>\n",
       "      <td>0.0</td>\n",
       "      <td>0.0</td>\n",
       "    </tr>\n",
       "    <tr>\n",
       "      <th>884</th>\n",
       "      <td>11503</td>\n",
       "      <td>2876.315918</td>\n",
       "      <td>1978.947388</td>\n",
       "      <td>144.779193</td>\n",
       "      <td>2402.631714</td>\n",
       "      <td>1821.052612</td>\n",
       "      <td>170.084688</td>\n",
       "      <td>0.0</td>\n",
       "      <td>0.0</td>\n",
       "      <td>0.0</td>\n",
       "      <td>0.0</td>\n",
       "    </tr>\n",
       "  </tbody>\n",
       "</table>\n",
       "<p>885 rows × 11 columns</p>\n",
       "</div>"
      ],
      "text/plain": [
       "        ms          btx          bty         btr          ltx          lty  \\\n",
       "0        0  2350.000000  1500.000000    0.000000  1650.000000  1500.000000   \n",
       "1      202  2350.000000  1500.000000    0.000000  1650.000000  1500.000000   \n",
       "2      221  2350.000000  1500.000000    0.000000  1650.000000  1500.000000   \n",
       "3      223  2350.000000  1500.000000    0.000000  1650.000000  1500.000000   \n",
       "4      237  2350.000000  1500.000000    0.000000  1650.000000  1500.000000   \n",
       "..     ...          ...          ...         ...          ...          ...   \n",
       "880  11436  2881.579102  1968.421021  144.357663  2402.631714  1810.526367   \n",
       "881  11453  2881.579102  1973.684204  143.243912  2402.631714  1810.526367   \n",
       "882  11469  2881.579102  1973.684204  143.243912  2402.631714  1815.789551   \n",
       "883  11486  2876.315918  1978.947388  144.779193  2402.631714  1815.789551   \n",
       "884  11503  2876.315918  1978.947388  144.779193  2402.631714  1821.052612   \n",
       "\n",
       "            ltr   cx   cy   cr   dr  \n",
       "0      0.000000  0.0  0.0  0.0  0.0  \n",
       "1      0.000000  0.0  0.0  0.0  0.0  \n",
       "2      0.000000  0.0  0.0  0.0  0.0  \n",
       "3      0.000000  0.0  0.0  0.0  0.0  \n",
       "4      0.000000  0.0  0.0  0.0  0.0  \n",
       "..          ...  ...  ...  ...  ...  \n",
       "880  171.478162  0.0  0.0  0.0  0.0  \n",
       "881  171.478162  0.0  0.0  0.0  0.0  \n",
       "882  170.752805  0.0  0.0  0.0  0.0  \n",
       "883  170.752805  0.0  0.0  0.0  0.0  \n",
       "884  170.084688  0.0  0.0  0.0  0.0  \n",
       "\n",
       "[885 rows x 11 columns]"
      ]
     },
     "execution_count": 10,
     "metadata": {},
     "output_type": "execute_result"
    }
   ],
   "source": [
    "# load a single performance into a pandas dataframe\n",
    "df = pd.DataFrame(block[0].data, columns=ms.COLUMN_LABELS)\n",
    "df"
   ]
  },
  {
   "cell_type": "code",
   "execution_count": 11,
   "metadata": {},
   "outputs": [
    {
     "data": {
      "text/plain": [
       "<matplotlib.collections.PathCollection at 0x3521c59d0>"
      ]
     },
     "execution_count": 11,
     "metadata": {},
     "output_type": "execute_result"
    },
    {
     "data": {
      "image/png": "[encoded data removed]",
      "text/plain": [
       "<Figure size 640x480 with 1 Axes>"
      ]
     },
     "metadata": {},
     "output_type": "display_data"
    }
   ],
   "source": [
    "# plot a performance\n",
    "plt.scatter(df['btx'], df['bty'], color='blue')\n",
    "plt.scatter(df['ltx'], df['lty'], color='red')"
   ]
  },
  {
   "cell_type": "markdown",
   "metadata": {},
   "source": [
    "## Triangle COPA dataset"
   ]
  },
  {
   "cell_type": "code",
   "execution_count": 12,
   "metadata": {},
   "outputs": [
    {
     "data": {
      "text/plain": [
       "100"
      ]
     },
     "execution_count": 12,
     "metadata": {},
     "output_type": "execute_result"
    }
   ],
   "source": [
    "tricopa = ms.tricopa()\n",
    "len(tricopa)"
   ]
  },
  {
   "cell_type": "code",
   "execution_count": 13,
   "metadata": {},
   "outputs": [],
   "source": [
    "df = pd.DataFrame(tricopa[0].data, columns=ms.COLUMN_LABELS)"
   ]
  },
  {
   "cell_type": "code",
   "execution_count": 14,
   "metadata": {},
   "outputs": [
    {
     "data": {
      "text/plain": [
       "<matplotlib.collections.PathCollection at 0x35462aab0>"
      ]
     },
     "execution_count": 14,
     "metadata": {},
     "output_type": "execute_result"
    },
    {
     "data": {
      "image/png": "[encoded data removed]",
      "text/plain": [
       "<Figure size 640x480 with 1 Axes>"
      ]
     },
     "metadata": {},
     "output_type": "display_data"
    }
   ],
   "source": [
    "# plot the motions\n",
    "plt.scatter(df['btx'], df['bty'], color='blue')\n",
    "plt.scatter(df['ltx'], df['lty'], color='red')\n",
    "plt.scatter(df['cx'], df['cy'], color='green')"
   ]
  },
  {
   "cell_type": "markdown",
   "metadata": {},
   "source": [
    "# Exporting movies"
   ]
  },
  {
   "cell_type": "code",
   "execution_count": 15,
   "metadata": {},
   "outputs": [],
   "source": [
    "import util.movie as mv"
   ]
  },
  {
   "cell_type": "code",
   "execution_count": 16,
   "metadata": {},
   "outputs": [
    {
     "name": "stdout",
     "output_type": "stream",
     "text": [
      "Moviepy - Building video Q1.mp4.\n",
      "Moviepy - Writing video Q1.mp4\n",
      "\n"
     ]
    },
    {
     "name": "stderr",
     "output_type": "stream",
     "text": [
      "                                                                "
     ]
    },
    {
     "name": "stdout",
     "output_type": "stream",
     "text": [
      "Moviepy - Done !\n",
      "Moviepy - video ready Q1.mp4\n"
     ]
    },
    {
     "name": "stderr",
     "output_type": "stream",
     "text": [
      "\r"
     ]
    }
   ],
   "source": [
    "# HSMovie generates movie frames at a specied framerate, defaulting to 24 fps (41.666666 ms per frame)\n",
    "mv.HSMovie(tricopa[0]).save(\"Q1.mp4\")"
   ]
  },
  {
   "cell_type": "code",
   "execution_count": 17,
   "metadata": {},
   "outputs": [
    {
     "data": {
      "text/plain": [
       "[[0.0,\n",
       "  1883.7501220703125,\n",
       "  2068.75,\n",
       "  106.82676850953666,\n",
       "  3540.0,\n",
       "  1400.0,\n",
       "  0.0,\n",
       "  3342.083251953125,\n",
       "  1038.5416870117188,\n",
       "  102.05674918000572,\n",
       "  10.0],\n",
       " [41.666666666666664,\n",
       "  1883.7501220703125,\n",
       "  2068.75,\n",
       "  106.82676850953666,\n",
       "  3540.0,\n",
       "  1400.0,\n",
       "  0.0,\n",
       "  3342.083251953125,\n",
       "  1038.5416870117188,\n",
       "  102.05674918000572,\n",
       "  10.0]]"
      ]
     },
     "execution_count": 17,
     "metadata": {},
     "output_type": "execute_result"
    }
   ],
   "source": [
    "# If you need the data associated with each frame, you can get it like this\n",
    "mv.HSMovie(tricopa[0]).frame_data()[:2] # first 2 frames"
   ]
  }
 ],
 "metadata": {
  "kernelspec": {
   "display_name": "modern",
   "language": "python",
   "name": "python3"
  },
  "language_info": {
   "codemirror_mode": {
    "name": "ipython",
    "version": 3
   },
   "file_extension": ".py",
   "mimetype": "text/x-python",
   "name": "python",
   "nbconvert_exporter": "python",
   "pygments_lexer": "ipython3",
   "version": "3.12.3"
  }
 },
 "nbformat": 4,
 "nbformat_minor": 2
}
